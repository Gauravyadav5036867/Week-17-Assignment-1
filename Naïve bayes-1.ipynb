{
 "cells": [
  {
   "cell_type": "code",
   "execution_count": null,
   "id": "cfb84557-1489-417c-8256-28243e28fcce",
   "metadata": {},
   "outputs": [],
   "source": [
    "#Question 1\n",
    "\n",
    "Bayes theorem is also known as the formula for the probability of “causes”. For example: if we have to calculate the probability of taking a blue ball from the second bag out of three different bags of balls, where each bag contains three different colour balls viz. red, blue, black."
   ]
  },
  {
   "cell_type": "code",
   "execution_count": null,
   "id": "90894fa0-2c49-439a-9d6b-9c36c6d24c51",
   "metadata": {},
   "outputs": [],
   "source": [
    "#Question 2\n",
    "\n",
    "Bayes theorem is used to determine conditional probability. When two events A and B are independent, P(A|B) = P(A) and P(B|A) = P(B)"
   ]
  },
  {
   "cell_type": "code",
   "execution_count": null,
   "id": "ed0f6d62-1c4d-4520-ae9e-adccd4503154",
   "metadata": {},
   "outputs": [],
   "source": [
    "#Question 3\n",
    "\n",
    "Applications of Bayes' Theorem are widespread and not limited to the financial realm. For example, Bayes' theorem can be used to determine the accuracy of medical test results by taking into consideration how likely any given person is to have a disease and the general accuracy of the test."
   ]
  },
  {
   "cell_type": "code",
   "execution_count": null,
   "id": "9eed787a-0784-422d-baee-60754bd23672",
   "metadata": {},
   "outputs": [],
   "source": [
    "#Question 4\n",
    "\n",
    "Conditional probability is the likelihood of an outcome occurring based on a previous outcome in similar circumstances. Bayes' Theorem provides a way to revise existing predictions or theories (update probabilities) given new or additional evidence."
   ]
  },
  {
   "cell_type": "code",
   "execution_count": null,
   "id": "7064b25a-d4eb-4028-bf1f-fa30fcb738be",
   "metadata": {},
   "outputs": [],
   "source": [
    "#Question 5\n",
    "\n",
    "Choosing the right type of Naive Bayes classifier depends on the nature of your data and the assumptions that best match your data distribution. Here are the main types of Naive Bayes classifiers and the scenarios in which they are most suitable:\n",
    "\n",
    "Gaussian Naive Bayes:\n",
    "\n",
    "When to Use: Use this when your features are continuous and you believe they are normally distributed (Gaussian distribution).\n",
    "Examples: Often used in text classification when using TF-IDF features, medical data with continuous measurements, or any dataset with continuous numerical features that approximate a normal distribution.\n",
    "Multinomial Naive Bayes:\n",
    "\n",
    "When to Use: Best suited for discrete features, typically used in document classification or other situations where you count the occurrences of events (e.g., word counts in text classification).\n",
    "Examples: Text classification problems (spam detection, sentiment analysis, news categorization) where the features represent counts or frequencies.\n",
    "Bernoulli Naive Bayes:\n",
    "\n",
    "When to Use: Use this when your features are binary (0/1) or boolean. This classifier is well-suited for features that are binary indicators.\n",
    "Examples: Text classification with binary term occurrence (whether a word appears in a document or not), binary feature datasets like market basket analysis (item purchased or not)"
   ]
  },
  {
   "cell_type": "code",
   "execution_count": null,
   "id": "b7593ca0-cc9a-4563-ab82-7fbe795ce0d3",
   "metadata": {},
   "outputs": [],
   "source": [
    "#Question 6\n",
    "\n"
   ]
  }
 ],
 "metadata": {
  "kernelspec": {
   "display_name": "Python 3 (ipykernel)",
   "language": "python",
   "name": "python3"
  },
  "language_info": {
   "codemirror_mode": {
    "name": "ipython",
    "version": 3
   },
   "file_extension": ".py",
   "mimetype": "text/x-python",
   "name": "python",
   "nbconvert_exporter": "python",
   "pygments_lexer": "ipython3",
   "version": "3.10.8"
  }
 },
 "nbformat": 4,
 "nbformat_minor": 5
}
